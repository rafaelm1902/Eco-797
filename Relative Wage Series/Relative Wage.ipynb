{
 "cells": [
  {
   "cell_type": "code",
   "execution_count": 1,
   "metadata": {},
   "outputs": [
    {
     "name": "stdout",
     "output_type": "stream",
     "text": [
      "\n",
      "\n",
      "\n",
      "    Variable |        Obs        Mean    Std. Dev.       Min        Max\n",
      "-------------+---------------------------------------------------------\n",
      "        year |     26,264    1991.762     16.4486       1964       2020\n",
      "      female |     26,264    .4982866    .5000066          0          1\n",
      "  experience |     26,264    22.78552     13.7232          0         58\n",
      "   schooling |     26,264    2.877056    1.417441          1          5\n",
      "   real_wage |     26,264     717.161    357.1733   115.8597   5898.612\n",
      "-------------+---------------------------------------------------------\n",
      " weekly_wage |     26,264    593.1871     485.493    28.2335   7769.038\n",
      "       q_obs |     26,264    167.0871    144.5288          1       2021\n",
      "    q_weight |     26,264    265790.1    222565.3     726.23    2696058\n",
      "  q_lsweight |     26,264    1.20e+07     9107980   33217.04   8.82e+07\n",
      "q_lshrswei~t |     26,264    4.84e+08    3.54e+08    1109666   2.28e+09\n",
      "-------------+---------------------------------------------------------\n",
      "       p_obs |     26,264    87.82497    67.72411          1        402\n",
      "    p_weight |     26,264    140194.9    106265.2     396.02   636440.1\n",
      "  p_lsweight |     26,264     7188169     5454747   20593.04   3.23e+07\n"
     ]
    }
   ],
   "source": [
    "use \"../Relative Supply/aftercollapse_merged\" // After collapse_merged file is created in Ultimate Relative Supply\n",
    "sum"
   ]
  },
  {
   "cell_type": "code",
   "execution_count": 2,
   "metadata": {},
   "outputs": [],
   "source": [
    "keep n_labor_supply_weight experience schooling year female\n"
   ]
  },
  {
   "cell_type": "code",
   "execution_count": 3,
   "metadata": {},
   "outputs": [
    {
     "name": "stdout",
     "output_type": "stream",
     "text": [
      "\n",
      "(26,264 missing values generated)\n",
      "\n",
      "(5,691 real changes made)\n",
      "\n",
      "(5,696 real changes made)\n",
      "\n",
      "(5,700 real changes made)\n",
      "\n",
      "(5,693 real changes made)\n",
      "\n",
      "\n",
      "experience_ |      Summary of experience_cat\n",
      "        cat |        Mean   Std. Dev.       Freq.\n",
      "------------+------------------------------------\n",
      "          1 |           1           0       5,691\n",
      "          2 |           2           0       5,696\n",
      "          3 |           3           0       5,700\n",
      "          4 |           4           0       5,693\n",
      "------------+------------------------------------\n",
      "      Total |   2.5002195   1.1178229      22,780\n"
     ]
    }
   ],
   "source": [
    "gen experience_cat=.\n",
    "replace experience_cat=1 if experience>=0 & experience<=9\n",
    "replace experience_cat=2 if experience>=10 & experience<=19\n",
    "replace experience_cat=3 if experience>=20 & experience<=29\n",
    "replace experience_cat=4 if experience>=30 & experience<=39\n",
    "\n",
    "tab experience_cat, summ(experience_cat)"
   ]
  },
  {
   "cell_type": "code",
   "execution_count": 4,
   "metadata": {},
   "outputs": [
    {
     "name": "stdout",
     "output_type": "stream",
     "text": [
      "\n",
      "\n",
      "\n",
      "\n",
      "file before_merge.dta saved\n"
     ]
    }
   ],
   "source": [
    "egen labor_supply_weight=sum(n_labor_supply_weight), by(experience_cat schooling female year) // labor supply weight by ....\n",
    "quietly bysort year female schooling experience_cat: keep if _n==1\n",
    "drop n_labor_supply_weight experience\n",
    "save before_merge, replace // save before merging with predicted log wages file"
   ]
  },
  {
   "cell_type": "code",
   "execution_count": 5,
   "metadata": {},
   "outputs": [
    {
     "name": "stdout",
     "output_type": "stream",
     "text": [
      "\n",
      "\n",
      "\n",
      "\n",
      "    Result                           # of obs.\n",
      "    -----------------------------------------\n",
      "    not matched                             0\n",
      "    matched                             2,280  \n",
      "    -----------------------------------------\n",
      "\n",
      "file aftercollapse_merged.dta saved\n",
      "\n",
      "\n",
      "    Variable |        Obs        Mean    Std. Dev.       Min        Max\n",
      "-------------+---------------------------------------------------------\n",
      "        year |      2,280        1992    16.45556       1964       2020\n",
      "      female |      2,280          .5    .5001097          0          1\n",
      "experience~t |      2,280         2.5    1.118279          1          4\n",
      "predicted_~s |      2,280    6.446095     .420314   5.521605   7.460212\n",
      "   schooling |      2,280           3    1.414524          1          5\n",
      "-------------+---------------------------------------------------------\n",
      "        lswt |      2,280    1.29e+08    8.39e+07    2177664   3.63e+08\n"
     ]
    }
   ],
   "source": [
    "use predicted_wages // predicted log wages file is created in Predicted Wages\n",
    "sort year schooling experience_cat female\n",
    "merge m:1 year schooling experience_cat female using \"../Relative Wage/before_merge\", keep(match) nogenerate\n",
    "save aftercollapse_merged, replace\n",
    "sum"
   ]
  },
  {
   "cell_type": "code",
   "execution_count": null,
   "metadata": {},
   "outputs": [],
   "source": [
    "egen temp1=sum(labor_supply_weight),by(year)\n",
    "gen normalized_labor_supply_weight = labor_supply_weight/temp1\n",
    "egen average_labor_weight=mean(normalized_labor_supply_weight),by(schooling female experience_cat) // average labor supply\n",
    "drop temp1"
   ]
  },
  {
   "cell_type": "code",
   "execution_count": 7,
   "metadata": {},
   "outputs": [],
   "source": [
    "* Overall high school\n",
    " egen m1=sum(predicted_log_wages*average_labor_weight*(schooling==2)), by(year)\n",
    " egen m2=sum(average_labor_weight*(schooling==2)), by(year)\n",
    " gen hs_wage=m1/m2\n",
    " drop m1 m2"
   ]
  },
  {
   "cell_type": "code",
   "execution_count": 8,
   "metadata": {},
   "outputs": [],
   "source": [
    "* Overall college-plus\n",
    " egen m1=sum(predicted_log_wages*average_labor_weight*(schooling==4 | schooling==5)), by(year)\n",
    " egen m2=sum(average_labor_weight*(schooling==4 | schooling == 5)), by(year)\n",
    " gen college_wage=m1/m2\n",
    " drop m1 m2"
   ]
  },
  {
   "cell_type": "code",
   "execution_count": 9,
   "metadata": {},
   "outputs": [],
   "source": [
    "gen college_hs_gap = colle_wage - hs_wage"
   ]
  },
  {
   "cell_type": "code",
   "execution_count": 10,
   "metadata": {},
   "outputs": [
    {
     "name": "stdout",
     "output_type": "stream",
     "text": [
      "\n",
      "\n",
      "\n",
      "--------------------------\n",
      "survey    |\n",
      "year      | mean(colleg~p)\n",
      "----------+---------------\n",
      "     1964 |       .3821373\n",
      "     1965 |       .3981619\n",
      "     1966 |       .4123693\n",
      "     1967 |       .4232306\n",
      "     1968 |       .4420724\n",
      "     1969 |       .4467039\n",
      "     1970 |       .4374728\n",
      "     1971 |       .4297104\n",
      "     1972 |       .4567652\n",
      "     1973 |       .4394598\n",
      "     1974 |       .4370584\n",
      "     1975 |       .4203458\n",
      "     1976 |       .4123511\n",
      "     1977 |       .4103203\n",
      "     1978 |       .3933167\n",
      "     1979 |       .3803658\n",
      "     1980 |       .3879089\n",
      "     1981 |       .3854618\n",
      "     1982 |       .3847647\n",
      "     1983 |       .4120359\n",
      "     1984 |       .4410009\n",
      "     1985 |       .4543099\n",
      "     1986 |       .4708719\n",
      "     1987 |       .4844832\n",
      "     1988 |       .4877148\n",
      "     1989 |       .4988132\n",
      "     1990 |       .5269022\n",
      "     1991 |        .521677\n",
      "     1992 |       .5474963\n",
      "     1993 |       .5497427\n",
      "     1994 |       .5773473\n",
      "     1995 |       .5788021\n",
      "     1996 |       .5807238\n",
      "     1997 |        .576395\n",
      "     1998 |       .5760899\n",
      "     1999 |       .6002421\n",
      "     2000 |       .6273026\n",
      "     2001 |       .6270723\n",
      "     2002 |       .6378288\n",
      "     2003 |       .6386685\n",
      "     2004 |       .6210537\n",
      "     2005 |       .6351576\n",
      "     2006 |       .6525259\n",
      "     2007 |       .6551375\n",
      "     2008 |       .6523547\n",
      "     2009 |       .6741138\n",
      "     2010 |       .6631174\n",
      "     2011 |       .6703758\n",
      "     2012 |        .682488\n",
      "     2013 |       .6780057\n",
      "     2014 |        .665936\n",
      "     2015 |       .6727304\n",
      "     2016 |       .6712928\n",
      "     2017 |       .6738043\n",
      "     2018 |       .6777911\n",
      "     2019 |       .6742549\n",
      "     2020 |       .6748214\n",
      "--------------------------\n"
     ]
    }
   ],
   "source": [
    "table year, c(mean college_hs_gap)"
   ]
  },
  {
   "cell_type": "code",
   "execution_count": 11,
   "metadata": {},
   "outputs": [
    {
     "name": "stdout",
     "output_type": "stream",
     "text": [
      "\n",
      "\n",
      "file ../Data/relative_wage.dta saved\n"
     ]
    }
   ],
   "source": [
    "collapse college_hs_gap, by(year)\n",
    "save \"../Data/relative_wage\", replace"
   ]
  },
  {
   "cell_type": "code",
   "execution_count": null,
   "metadata": {},
   "outputs": [],
   "source": []
  }
 ],
 "metadata": {
  "kernelspec": {
   "display_name": "Stata",
   "language": "stata",
   "name": "stata"
  },
  "language_info": {
   "codemirror_mode": "stata",
   "file_extension": ".do",
   "mimetype": "text/x-stata",
   "name": "stata",
   "version": "15.1"
  }
 },
 "nbformat": 4,
 "nbformat_minor": 4
}
