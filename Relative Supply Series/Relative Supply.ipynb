{
 "cells": [
  {
   "cell_type": "code",
   "execution_count": 1,
   "metadata": {},
   "outputs": [
    {
     "name": "stdout",
     "output_type": "stream",
     "text": [
      "\n",
      "\n",
      "(1,893,739 real changes made)\n",
      "\n",
      "\n",
      "(1,231,785 real changes made, 1,231,785 to missing)\n"
     ]
    }
   ],
   "source": [
    "use \"..\\Data\\cleaned_cps\"\n",
    "\n",
    "replace experience =round(experience,1)\n",
    "gen fulltime_fullyear = fulltime*fullyear // focus on full time full year workers\n",
    "\n",
    "/* replace wages with missing values for non fulltime full year workers or bottom weekly wages */ \n",
    "replace weekly_wage  = . if !fulltime_fullyear | weekly_wage_less_than_sixtyseven"
   ]
  },
  {
   "cell_type": "code",
   "execution_count": 2,
   "metadata": {},
   "outputs": [
    {
     "name": "stdout",
     "output_type": "stream",
     "text": [
      "\n",
      "\n",
      "\n",
      "   pce2000 =     78.235\n",
      "\n",
      "(1,655,747 missing values generated)\n",
      "\n",
      "\n",
      "    Variable |        Obs        Mean    Std. Dev.       Min        Max\n",
      "-------------+---------------------------------------------------------\n",
      "   real_wage |  2,733,272    724.2206    588.4449   110.4579   10107.46\n"
     ]
    }
   ],
   "source": [
    "/* Generate real weekly wages again */\n",
    "summarize pce if inlist(year, 2001), meanonly // 2001 survey year = 2000 pce year\n",
    "scalar pce2000=r(mean)\n",
    "scalar list pce2000\n",
    "\n",
    "gen real_wage = (pce2000/pce) * weekly_wage\n",
    "sum real_wage"
   ]
  },
  {
   "cell_type": "code",
   "execution_count": 3,
   "metadata": {},
   "outputs": [
    {
     "name": "stdout",
     "output_type": "stream",
     "text": [
      "\n",
      "\n",
      "\n",
      "\n",
      "\n",
      "\n",
      "\n",
      "\n",
      "\n",
      "\n",
      "(2,082,384 real changes made)\n",
      "\n",
      "\n",
      "\n",
      "(2,082,317 real changes made)\n",
      "\n",
      "\n",
      "\n",
      "(2,082,317 real changes made)\n",
      "\n"
     ]
    }
   ],
   "source": [
    "/* We create weights */\n",
    "gen n_obs = 1\n",
    "label variable n_obs \"Number of observations\"\n",
    "\n",
    "gen n_weight = asecwt\n",
    "label variable n_weight \"Earnings weight\"\n",
    "\n",
    "gen n_labor_supply_weight = asecwt*wkswork1\n",
    "label variable n_labor_supply_weight \"Earnings weight times weeks last year\"\n",
    "\n",
    "gen n_labor_supply_hourly_weight = asecwt*wkswork1*weekly_hours_workedly\n",
    "label variable n_labor_supply_hourly_weight \"Earnings weight times weeks last year times hours last year\"\n",
    "\n",
    "\n",
    "/* We assign weights for missing values of weekly wages */\n",
    "gen m_obs = 1\n",
    "replace m_obs = 0 if weekly_wage  == . | allocated_earnings == 1 | selfemployed==1\n",
    "label variable m_obs \"Number of FTFY obs with non-missing earnings\"\n",
    "\n",
    "gen m_weight = asecwt\n",
    "replace m_weight = 0  if weekly_wage  == . | allocated_earnings == 1 | selfemployed==1\n",
    "label variable m_weight \"Earnings weight for FTFY obs with non-missing earnings\"\n",
    "\n",
    "gen m_labor_supply_weight = asecwt*wkswork1\n",
    "replace m_labor_supply_weight = 0 if weekly_wage  == . | allocated_earnings == 1 | selfemployed==1\n",
    "label variable m_labor_supply_weight \"Earnings weight times weeks last year for FTFY obs with non-missing earnings\""
   ]
  },
  {
   "cell_type": "code",
   "execution_count": 4,
   "metadata": {},
   "outputs": [
    {
     "name": "stdout",
     "output_type": "stream",
     "text": [
      "(note: file precollapse.dta not found)\n",
      "file precollapse.dta saved\n"
     ]
    }
   ],
   "source": [
    "save precollapse, replace\n"
   ]
  },
  {
   "cell_type": "code",
   "execution_count": 5,
   "metadata": {},
   "outputs": [],
   "source": [
    "collapse (sum) n_obs n_weight n_labor_supply_weight n_labor_supply_hourly_weight m_obs m_weight m_labor_supply_weight, by(year schooling experience female)\n",
    "sort year schooling experience female"
   ]
  },
  {
   "cell_type": "code",
   "execution_count": 6,
   "metadata": {},
   "outputs": [
    {
     "name": "stdout",
     "output_type": "stream",
     "text": [
      "(note: file aftercollapse.dta not found)\n",
      "file aftercollapse.dta saved\n"
     ]
    }
   ],
   "source": [
    "save aftercollapse, replace"
   ]
  },
  {
   "cell_type": "code",
   "execution_count": 7,
   "metadata": {},
   "outputs": [],
   "source": [
    "use precollapse \n"
   ]
  },
  {
   "cell_type": "code",
   "execution_count": 8,
   "metadata": {},
   "outputs": [],
   "source": [
    "collapse (mean) real_wage weekly_wage [aweight=m_weight], by(year schooling experience female)\n",
    "sort year schooling experience female"
   ]
  },
  {
   "cell_type": "code",
   "execution_count": 9,
   "metadata": {},
   "outputs": [
    {
     "name": "stdout",
     "output_type": "stream",
     "text": [
      "\n",
      "\n",
      "    Result                           # of obs.\n",
      "    -----------------------------------------\n",
      "    not matched                             0\n",
      "    matched                            26,264  \n",
      "    -----------------------------------------\n",
      "\n",
      "\n",
      "    Variable |        Obs        Mean    Std. Dev.       Min        Max\n",
      "-------------+---------------------------------------------------------\n",
      "        year |     26,264    1991.762     16.4486       1964       2020\n",
      "      female |     26,264    .4982866    .5000066          0          1\n",
      "  experience |     26,264    22.78552     13.7232          0         58\n",
      "   schooling |     26,264    2.877056    1.417441          1          5\n",
      "   real_wage |     26,264     717.161    357.1733   115.8597   5898.612\n",
      "-------------+---------------------------------------------------------\n",
      " weekly_wage |     26,264    593.1871     485.493    28.2335   7769.038\n",
      "       n_obs |     26,264    167.0871    144.5288          1       2021\n",
      "    n_weight |     26,264    265790.1    222565.3     726.23    2696058\n",
      "n~ply_weight |     26,264    1.20e+07     9107980   33217.04   8.82e+07\n",
      "n~rly_weight |     26,264    4.84e+08    3.54e+08    1109666   2.28e+09\n",
      "-------------+---------------------------------------------------------\n",
      "       m_obs |     26,264    87.82497    67.72411          1        402\n",
      "    m_weight |     26,264    140194.9    106265.2     396.02   636440.1\n",
      "m_labor_su~t |     26,264     7188169     5454747   20593.04   3.23e+07\n",
      "\n",
      "(note: file aftercollapse_merged.dta not found)\n",
      "file aftercollapse_merged.dta saved\n"
     ]
    }
   ],
   "source": [
    "merge m:1 year schooling experience female using \"../Relative Supply/aftercollapse\", keep(match) nogenerate\n",
    "sum\n",
    "save aftercollapse_merged, replace"
   ]
  },
  {
   "cell_type": "code",
   "execution_count": 10,
   "metadata": {},
   "outputs": [
    {
     "name": "stdout",
     "output_type": "stream",
     "text": [
      "\n",
      "(3,484 observations deleted)\n",
      "\n",
      "\n",
      "(5,696 real changes made)\n",
      "\n",
      "(5,700 real changes made)\n",
      "\n",
      "(5,693 real changes made)\n"
     ]
    }
   ],
   "source": [
    "keep if experience>=0 & experience<=39\n",
    "\n",
    "gen experience_cat = 1\n",
    "replace experience_cat = 2 if experience>=10 & experience<=19\n",
    "replace experience_cat = 3 if experience>=20 & experience<=29\n",
    "replace experience_cat = 4 if experience>=30 & experience<=39\n"
   ]
  },
  {
   "cell_type": "code",
   "execution_count": 11,
   "metadata": {},
   "outputs": [
    {
     "name": "stdout",
     "output_type": "stream",
     "text": [
      "\n",
      "\n",
      "\n",
      "            |         Summary of basewage\n",
      "survey year |        Mean   Std. Dev.       Freq.\n",
      "------------+------------------------------------\n",
      "       1964 |   518.85175           0         393\n",
      "       1965 |   548.75403           0         395\n",
      "       1966 |   563.52856           0         399\n",
      "       1967 |   597.06323           0         396\n",
      "       1968 |   601.66254           0         399\n",
      "       1969 |   597.23743           0         400\n",
      "       1970 |   641.94122           0         400\n",
      "       1971 |   633.20251           0         400\n",
      "       1972 |   654.49268           0         400\n",
      "       1973 |    672.4082           0         400\n",
      "       1974 |   677.25848           0         400\n",
      "       1975 |   679.01947           0         400\n",
      "       1976 |   626.73419           0         400\n",
      "       1977 |   638.47723           0         400\n",
      "       1978 |   658.44513           0         400\n",
      "       1979 |   682.68701           0         399\n",
      "       1980 |   644.20642           0         400\n",
      "       1981 |    639.0827           0         400\n",
      "       1982 |   615.37805           0         400\n",
      "       1983 |   634.19531           0         400\n",
      "       1984 |   633.22192           0         400\n",
      "       1985 |   598.67993           0         400\n",
      "       1986 |   626.43774           0         400\n",
      "       1987 |   574.16876           0         399\n",
      "       1988 |   592.08148           0         400\n",
      "       1989 |   589.49951           0         400\n",
      "       1990 |   561.75665           0         400\n",
      "       1991 |   568.69049           0         400\n",
      "       1992 |   557.86554           0         400\n",
      "       1993 |   528.20093           0         400\n",
      "       1994 |   550.60071           0         400\n",
      "       1995 |   538.39203           0         400\n",
      "       1996 |   523.28448           0         400\n",
      "       1997 |   565.89069           0         400\n",
      "       1998 |   579.61676           0         400\n",
      "       1999 |   575.45502           0         400\n",
      "       2000 |   577.22925           0         400\n",
      "       2001 |   584.22998           0         400\n",
      "       2002 |   584.87347           0         400\n",
      "       2003 |   629.63025           0         400\n",
      "       2004 |   576.08502           0         400\n",
      "       2005 |   584.61737           0         400\n",
      "       2006 |   567.78387           0         400\n",
      "       2007 |    584.5249           0         400\n",
      "       2008 |    657.0282           0         400\n",
      "       2009 |   547.07037           0         400\n",
      "       2010 |   650.95526           0         400\n",
      "       2011 |   603.89911           0         400\n",
      "       2012 |   602.38281           0         400\n",
      "       2013 |   530.20618           0         400\n",
      "       2014 |   565.38947           0         400\n",
      "       2015 |   541.29175           0         400\n",
      "       2016 |   709.63708           0         400\n",
      "       2017 |   588.52484           0         400\n",
      "       2018 |   585.92737           0         400\n",
      "       2019 |   631.52728           0         400\n",
      "       2020 |   562.07166           0         400\n",
      "------------+------------------------------------\n",
      "      Total |   599.21667   44.786538      22,780\n",
      "\n",
      "\n",
      "\n",
      "            |     Summary of normalized_wage\n",
      "survey year |        Mean   Std. Dev.       Freq.\n",
      "------------+------------------------------------\n",
      "       1964 |   1.0432496   .44380245         393\n",
      "       1965 |   1.0216394   .41158505         395\n",
      "       1966 |   1.0284483   .43058588         399\n",
      "       1967 |   .99090484   .42258021         396\n",
      "       1968 |   1.0196193   .44114451         399\n",
      "       1969 |   1.0593412   .43592121         400\n",
      "       1970 |   1.0274246   .43709194         400\n",
      "       1971 |   1.0586477   .44592565         400\n",
      "       1972 |   1.0332386   .43739903         400\n",
      "       1973 |   1.0335372   .44037708         400\n",
      "       1974 |   1.0339488   .44359894         400\n",
      "       1975 |   .98697852   .42308962         400\n",
      "       1976 |   1.0573342   .44609047         400\n",
      "       1977 |   1.0543067     .446984         400\n",
      "       1978 |   1.0197212   .43761852         400\n",
      "       1979 |   .98526734   .40647562         399\n",
      "       1980 |    1.058802   .44065493         400\n",
      "       1981 |    1.045376    .4349764         400\n",
      "       1982 |   1.0674351   .45082426         400\n",
      "       1983 |   1.0545361    .4503674         400\n",
      "       1984 |    1.059403   .45289479         400\n",
      "       1985 |   1.1368662   .49937484         400\n",
      "       1986 |   1.1065256   .48757374         400\n",
      "       1987 |   1.2259603   .54223769         399\n",
      "       1988 |   1.2007947   .52015549         400\n",
      "       1989 |   1.2103322    .5128065         400\n",
      "       1990 |   1.2815226   .57821584         400\n",
      "       1991 |   1.2427676    .5551322         400\n",
      "       1992 |   1.2597536    .5716527         400\n",
      "       1993 |   1.3346484   .60240948         400\n",
      "       1994 |   1.2893529   .59619806         400\n",
      "       1995 |   1.3379349    .6375414         400\n",
      "       1996 |   1.3783278   .67039546         400\n",
      "       1997 |   1.2848129   .60909361         400\n",
      "       1998 |   1.2707877   .60196385         400\n",
      "       1999 |    1.338147     .653106         400\n",
      "       2000 |   1.3815807   .69352976         400\n",
      "       2001 |   1.3739792   .66775714         400\n",
      "       2002 |   1.3829506   .66953593         400\n",
      "       2003 |    1.306091   .64368029         400\n",
      "       2004 |   1.4302331   .71112798         400\n",
      "       2005 |   1.4011219   .70127165         400\n",
      "       2006 |   1.4425202    .7412351         400\n",
      "       2007 |   1.4111093   .71756062         400\n",
      "       2008 |   1.2438048   .61873749         400\n",
      "       2009 |   1.4962189   .77860095         400\n",
      "       2010 |   1.2715285   .65875988         400\n",
      "       2011 |   1.3535981   .71760748         400\n",
      "       2012 |   1.3607563    .7212691         400\n",
      "       2013 |   1.5407891   .82557772         400\n",
      "       2014 |      1.4292   .76264757         400\n",
      "       2015 |    1.516224   .79832827         400\n",
      "       2016 |    1.189044   .62168106         400\n",
      "       2017 |   1.4683651   .76073844         400\n",
      "       2018 |   1.4860487   .77071951         400\n",
      "       2019 |   1.3840541   .72340581         400\n",
      "       2020 |   1.6342817   .85232844         400\n",
      "------------+------------------------------------\n",
      "      Total |   1.2307218    .6179884      22,780\n",
      "\n",
      "\n",
      "\n",
      "            |   Summary of cell_efficieny_unit\n",
      "survey year |        Mean   Std. Dev.       Freq.\n",
      "------------+------------------------------------\n",
      "       1964 |   1.2255498   .55703176         393\n",
      "       1965 |   1.2293183   .55471253         395\n",
      "       1966 |   1.2304873   .55437935         399\n",
      "       1967 |   1.2291228   .55591071         396\n",
      "       1968 |   1.2295808   .55377461         399\n",
      "       1969 |   1.2309558   .55376348         400\n",
      "       1970 |   1.2309558   .55376348         400\n",
      "       1971 |   1.2309558   .55376348         400\n",
      "       1972 |   1.2309558   .55376348         400\n",
      "       1973 |   1.2309558   .55376348         400\n",
      "       1974 |   1.2309558   .55376348         400\n",
      "       1975 |   1.2309558   .55376348         400\n",
      "       1976 |   1.2309558   .55376348         400\n",
      "       1977 |   1.2309558   .55376348         400\n",
      "       1978 |   1.2309558   .55376348         400\n",
      "       1979 |   1.2295808   .55377461         399\n",
      "       1980 |   1.2309558   .55376348         400\n",
      "       1981 |   1.2309558   .55376348         400\n",
      "       1982 |   1.2309558   .55376348         400\n",
      "       1983 |   1.2309558   .55376348         400\n",
      "       1984 |   1.2309558   .55376348         400\n",
      "       1985 |   1.2309558   .55376348         400\n",
      "       1986 |   1.2309558   .55376348         400\n",
      "       1987 |   1.2295808   .55377461         399\n",
      "       1988 |   1.2309558   .55376348         400\n",
      "       1989 |   1.2309558   .55376348         400\n",
      "       1990 |   1.2309558   .55376348         400\n",
      "       1991 |   1.2309558   .55376348         400\n",
      "       1992 |   1.2309558   .55376348         400\n",
      "       1993 |   1.2309558   .55376348         400\n",
      "       1994 |   1.2309558   .55376348         400\n",
      "       1995 |   1.2309558   .55376348         400\n",
      "       1996 |   1.2309558   .55376348         400\n",
      "       1997 |   1.2309558   .55376348         400\n",
      "       1998 |   1.2309558   .55376348         400\n",
      "       1999 |   1.2309558   .55376348         400\n",
      "       2000 |   1.2309558   .55376348         400\n"
     ]
    },
    {
     "name": "stdout",
     "output_type": "stream",
     "text": [
      "       2001 |   1.2309558   .55376348         400\n",
      "       2002 |   1.2309558   .55376348         400\n",
      "       2003 |   1.2309558   .55376348         400\n",
      "       2004 |   1.2309558   .55376348         400\n",
      "       2005 |   1.2309558   .55376348         400\n",
      "       2006 |   1.2309558   .55376348         400\n",
      "       2007 |   1.2309558   .55376348         400\n",
      "       2008 |   1.2309558   .55376348         400\n",
      "       2009 |   1.2309558   .55376348         400\n",
      "       2010 |   1.2309558   .55376348         400\n",
      "       2011 |   1.2309558   .55376348         400\n",
      "       2012 |   1.2309558   .55376348         400\n",
      "       2013 |   1.2309558   .55376348         400\n",
      "       2014 |   1.2309558   .55376348         400\n",
      "       2015 |   1.2309558   .55376348         400\n",
      "       2016 |   1.2309558   .55376348         400\n",
      "       2017 |   1.2309558   .55376348         400\n",
      "       2018 |   1.2309558   .55376348         400\n",
      "       2019 |   1.2309558   .55376348         400\n",
      "       2020 |   1.2309558   .55376348         400\n",
      "------------+------------------------------------\n",
      "      Total |   1.2307218    .5532046      22,780\n"
     ]
    }
   ],
   "source": [
    "egen basewage = max(real_wage*(female==0)*(schooling==2)*(experience==10)), by(year) // yearly wage of H.S graduate with 10 yrs experience\n",
    "tab year, sum(basewage)\n",
    "gen normalized_wage = (real_wage/basewage)\n",
    "tab year, sum(normalized_wage)\n",
    "egen cell_efficieny_unit=mean(normalized_wage), by(schooling female experience) \n",
    "tab year, sum(cell_efficieny_unit)"
   ]
  },
  {
   "cell_type": "code",
   "execution_count": 12,
   "metadata": {},
   "outputs": [],
   "source": [
    "egen tot_efficiency_unit_weighted = sum(cell_efficieny_unit*n_labor_supply_hourly_weight),by(year)\n",
    "gen efficiency_unit_weighted=((cell_efficieny_unit)*(n_labor_supply_hourly_weight)/tot_efficiency_unit_weighted)\n",
    "\n",
    "egen college_supply = sum(efficiency_unit_weighted*((schooling==4 | schooling==5) + 0.5*(schooling ==3))),by(year)\n",
    "\n",
    "gen college_hs_supply=ln(college_supply/(1-college_supply))"
   ]
  },
  {
   "cell_type": "code",
   "execution_count": 13,
   "metadata": {},
   "outputs": [
    {
     "name": "stdout",
     "output_type": "stream",
     "text": [
      "\n",
      "--------------------------\n",
      "survey    |\n",
      "year      | mean(colleg~y)\n",
      "----------+---------------\n",
      "     1964 |      -.7918856\n",
      "     1965 |      -.7444239\n",
      "     1966 |      -.7511503\n",
      "     1967 |      -.7342879\n",
      "     1968 |       -.671908\n",
      "     1969 |      -.6682243\n",
      "     1970 |       -.624491\n",
      "     1971 |      -.5646536\n",
      "     1972 |      -.5354807\n",
      "     1973 |      -.4951653\n",
      "     1974 |      -.4356841\n",
      "     1975 |      -.3676135\n",
      "     1976 |      -.3160161\n",
      "     1977 |      -.2845219\n",
      "     1978 |       -.261696\n",
      "     1979 |      -.2226935\n",
      "     1980 |      -.1967725\n",
      "     1981 |      -.1667217\n",
      "     1982 |      -.1223423\n",
      "     1983 |      -.0274082\n",
      "     1984 |      -.0050444\n",
      "     1985 |      -.0067089\n",
      "     1986 |      -.0000794\n",
      "     1987 |       .0218796\n",
      "     1988 |       .0257907\n",
      "     1989 |       .0646573\n",
      "     1990 |       .0632647\n",
      "     1991 |       .0729961\n",
      "     1992 |       .0975208\n",
      "     1993 |       .1473078\n",
      "     1994 |       .1690533\n",
      "     1995 |        .199798\n",
      "     1996 |       .1895386\n",
      "     1997 |       .1929807\n",
      "     1998 |       .2156981\n",
      "     1999 |         .24091\n",
      "     2000 |       .2628757\n",
      "     2001 |       .2781467\n",
      "     2002 |       .3046859\n",
      "     2003 |       .3285099\n",
      "     2004 |        .340631\n",
      "     2005 |       .3288069\n",
      "     2006 |       .3446975\n",
      "     2007 |       .3704082\n",
      "     2008 |        .411653\n",
      "     2009 |       .4314104\n",
      "     2010 |       .4694762\n",
      "     2011 |       .5147974\n",
      "     2012 |       .5224043\n",
      "     2013 |       .5492826\n",
      "     2014 |       .5515066\n",
      "     2015 |       .5684371\n",
      "     2016 |       .5954205\n",
      "     2017 |       .6132153\n",
      "     2018 |         .65252\n",
      "     2019 |       .6747852\n",
      "     2020 |         .73231\n",
      "--------------------------\n"
     ]
    }
   ],
   "source": [
    "table year, c(mean college_hs_supply)"
   ]
  },
  {
   "cell_type": "code",
   "execution_count": 16,
   "metadata": {},
   "outputs": [],
   "source": [
    "collapse college_hs_supply, by(year)\n",
    "save \"../Data/relative_supply\", replace "
   ]
  },
  {
   "cell_type": "code",
   "execution_count": null,
   "metadata": {},
   "outputs": [],
   "source": []
  }
 ],
 "metadata": {
  "kernelspec": {
   "display_name": "Stata",
   "language": "stata",
   "name": "stata"
  },
  "language_info": {
   "codemirror_mode": "stata",
   "file_extension": ".do",
   "mimetype": "text/x-stata",
   "name": "stata",
   "version": "15.1"
  }
 },
 "nbformat": 4,
 "nbformat_minor": 4
}
