{
 "cells": [
  {
   "cell_type": "code",
   "execution_count": 1,
   "metadata": {},
   "outputs": [
    {
     "name": "stdout",
     "output_type": "stream",
     "text": [
      "\n",
      "C:\\Users\\Rafael\\Eco 797 - Practicum in Empirical Analysis\\Analysis\n",
      "\n",
      "\n",
      "\n",
      "\n",
      "    Result                           # of obs.\n",
      "    -----------------------------------------\n",
      "    not matched                             0\n",
      "    matched                                57  \n",
      "    -----------------------------------------\n",
      "\n",
      "(57 real changes made)\n",
      "\n",
      "\n",
      "    Result                           # of obs.\n",
      "    -----------------------------------------\n",
      "    not matched                             0\n",
      "    matched                                57  \n",
      "    -----------------------------------------\n",
      "\n",
      "\n",
      "\n",
      "    Result                           # of obs.\n",
      "    -----------------------------------------\n",
      "    not matched                             0\n",
      "    matched                                57  \n",
      "    -----------------------------------------\n",
      "\n"
     ]
    }
   ],
   "source": [
    "cd\n",
    "use \"..\\Data\\relative_wage\"\n",
    "sort year\n",
    "merge m:1 year using \"../Data/relative_supply\", keep(match) nogenerate\n",
    "replace year = year-1\n",
    "merge m:1 year using \"../Data/unemp_min\", keep(match) nogenerate\n",
    "sort year\n",
    "merge m:1 year using \"../Data/pce\", keep(match) nogenerate\n",
    "sort year\n"
   ]
  },
  {
   "cell_type": "code",
   "execution_count": 2,
   "metadata": {},
   "outputs": [],
   "source": [
    "gen time = year - 1962\n",
    "gen time_square = time ^ 2/100\n",
    "gen time_cube = time ^ 3/1000\n",
    "gen time_post92 =  max(year-1992,0) \n"
   ]
  },
  {
   "cell_type": "code",
   "execution_count": 3,
   "metadata": {},
   "outputs": [
    {
     "name": "stdout",
     "output_type": "stream",
     "text": [
      "\n",
      "\n",
      "\n",
      "   pce2000 =     78.235\n",
      "\n",
      "\n"
     ]
    }
   ],
   "source": [
    "summarize pce if inlist(year, 2000), meanonly //  2000 earning year, since we subtracte year - 1 \n",
    "scalar pce2000=r(mean)\n",
    "scalar list pce2000\n",
    "\n",
    "\n",
    "gen real_min_wage = ((pce2000*nominal_minwage)/pce)\n",
    "gen log_real_min_wage = log(real_min_wage)"
   ]
  },
  {
   "cell_type": "code",
   "execution_count": 4,
   "metadata": {},
   "outputs": [
    {
     "name": "stdout",
     "output_type": "stream",
     "text": [
      "\n",
      "      Source |       SS           df       MS      Number of obs   =        25\n",
      "-------------+----------------------------------   F(2, 22)        =     11.05\n",
      "       Model |  .011945427         2  .005972714   Prob > F        =    0.0005\n",
      "    Residual |  .011887259        22   .00054033   R-squared       =    0.5012\n",
      "-------------+----------------------------------   Adj R-squared   =    0.4559\n",
      "       Total |  .023832686        24  .000993029   Root MSE        =    .02324\n",
      "\n",
      "-------------------------------------------------------------------------------\n",
      "college_hs_~p |      Coef.   Std. Err.      t    P>|t|     [95% Conf. Interval]\n",
      "--------------+----------------------------------------------------------------\n",
      "college_hs_~y |  -.6033229   .1430562    -4.22   0.000    -.9000034   -.3066424\n",
      "         time |   .0244182     .00551     4.43   0.000     .0129912    .0358451\n",
      "        _cons |  -.1081448   .1227109    -0.88   0.388    -.3626317    .1463421\n",
      "-------------------------------------------------------------------------------\n",
      "(est1 stored)\n"
     ]
    }
   ],
   "source": [
    "*1\n",
    "eststo: reg college_hs_gap college_hs_supply time  if year<=1987"
   ]
  },
  {
   "cell_type": "code",
   "execution_count": 5,
   "metadata": {},
   "outputs": [
    {
     "name": "stdout",
     "output_type": "stream",
     "text": [
      "\n",
      "      Source |       SS           df       MS      Number of obs   =        43\n",
      "-------------+----------------------------------   F(2, 40)        =    280.74\n",
      "       Model |  .312430948         2  .156215474   Prob > F        =    0.0000\n",
      "    Residual |   .02225759        40   .00055644   R-squared       =    0.9335\n",
      "-------------+----------------------------------   Adj R-squared   =    0.9302\n",
      "       Total |  .334688538        42  .007968775   Root MSE        =    .02359\n",
      "\n",
      "-------------------------------------------------------------------------------\n",
      "college_hs_~p |      Coef.   Std. Err.      t    P>|t|     [95% Conf. Interval]\n",
      "--------------+----------------------------------------------------------------\n",
      "college_hs_~y |  -.4377254   .0497124    -8.81   0.000    -.5381979   -.3372529\n",
      "         time |   .0187378   .0014334    13.07   0.000     .0158407    .0216349\n",
      "        _cons |   .0289211   .0375077     0.77   0.445    -.0468847    .1047269\n",
      "-------------------------------------------------------------------------------\n",
      "(est2 stored)\n"
     ]
    }
   ],
   "source": [
    "*2\n",
    "eststo: reg college_hs_gap college_hs_supply time if year<=2005"
   ]
  },
  {
   "cell_type": "code",
   "execution_count": 6,
   "metadata": {},
   "outputs": [
    {
     "name": "stdout",
     "output_type": "stream",
     "text": [
      "\n",
      "      Source |       SS           df       MS      Number of obs   =        43\n",
      "-------------+----------------------------------   F(3, 39)        =    243.30\n",
      "       Model |  .317712513         3  .105904171   Prob > F        =    0.0000\n",
      "    Residual |  .016976025        39  .000435283   R-squared       =    0.9493\n",
      "-------------+----------------------------------   Adj R-squared   =    0.9454\n",
      "       Total |  .334688538        42  .007968775   Root MSE        =    .02086\n",
      "\n",
      "-------------------------------------------------------------------------------\n",
      "college_hs_~p |      Coef.   Std. Err.      t    P>|t|     [95% Conf. Interval]\n",
      "--------------+----------------------------------------------------------------\n",
      "college_hs_~y |  -.6421231   .0733241    -8.76   0.000     -.790435   -.4938112\n",
      "         time |   .0262489   .0025014    10.49   0.000     .0211894    .0313085\n",
      "  time_post92 |  -.0074448   .0021372    -3.48   0.001    -.0117677   -.0031218\n",
      "        _cons |   -.144836   .0599063    -2.42   0.020    -.2660079   -.0236642\n",
      "-------------------------------------------------------------------------------\n",
      "(est3 stored)\n"
     ]
    }
   ],
   "source": [
    "*3\n",
    "eststo: reg college_hs_gap college_hs_supply time time_post92  if year<=2005"
   ]
  },
  {
   "cell_type": "code",
   "execution_count": 7,
   "metadata": {},
   "outputs": [
    {
     "name": "stdout",
     "output_type": "stream",
     "text": [
      "\n",
      "      Source |       SS           df       MS      Number of obs   =        43\n",
      "-------------+----------------------------------   F(3, 39)        =    187.22\n",
      "       Model |  .312957468         3  .104319156   Prob > F        =    0.0000\n",
      "    Residual |   .02173107        39  .000557207   R-squared       =    0.9351\n",
      "-------------+----------------------------------   Adj R-squared   =    0.9301\n",
      "       Total |  .334688538        42  .007968775   Root MSE        =    .02361\n",
      "\n",
      "-------------------------------------------------------------------------------\n",
      "college_hs_~p |      Coef.   Std. Err.      t    P>|t|     [95% Conf. Interval]\n",
      "--------------+----------------------------------------------------------------\n",
      "college_hs_~y |  -.5473823   .1232891    -4.44   0.000     -.796758   -.2980066\n",
      "         time |   .0246069   .0062057     3.97   0.000     .0120546    .0371592\n",
      "  time_square |  -.0063012   .0064822    -0.97   0.337    -.0194126    .0068103\n",
      "        _cons |  -.0730164   .1113806    -0.66   0.516     -.298305    .1522722\n",
      "-------------------------------------------------------------------------------\n",
      "(est4 stored)\n"
     ]
    }
   ],
   "source": [
    "*4\n",
    "eststo: reg college_hs_gap college_hs_supply time time_square if year <=2005"
   ]
  },
  {
   "cell_type": "code",
   "execution_count": 8,
   "metadata": {},
   "outputs": [
    {
     "name": "stdout",
     "output_type": "stream",
     "text": [
      "\n",
      "      Source |       SS           df       MS      Number of obs   =        43\n",
      "-------------+----------------------------------   F(4, 38)        =    179.24\n",
      "       Model |  .317842566         4  .079460642   Prob > F        =    0.0000\n",
      "    Residual |  .016845972        38  .000443315   R-squared       =    0.9497\n",
      "-------------+----------------------------------   Adj R-squared   =    0.9444\n",
      "       Total |  .334688538        42  .007968775   Root MSE        =    .02106\n",
      "\n",
      "-------------------------------------------------------------------------------\n",
      "college_hs_~p |      Coef.   Std. Err.      t    P>|t|     [95% Conf. Interval]\n",
      "--------------+----------------------------------------------------------------\n",
      "college_hs_~y |  -.5604756   .1100403    -5.09   0.000    -.7832405   -.3377107\n",
      "         time |   .0168815   .0060046     2.81   0.008     .0047258    .0290373\n",
      "  time_square |   .0400959   .0151256     2.65   0.012     .0094757     .070716\n",
      "    time_cube |  -.0071253   .0021465    -3.32   0.002    -.0114706     -.00278\n",
      "        _cons |  -.0523352   .0995428    -0.53   0.602    -.2538491    .1491787\n",
      "-------------------------------------------------------------------------------\n",
      "(est5 stored)\n"
     ]
    }
   ],
   "source": [
    "*5\n",
    "eststo: reg college_hs_gap college_hs_supply time time_square time_cube if year <=2005"
   ]
  },
  {
   "cell_type": "code",
   "execution_count": 9,
   "metadata": {},
   "outputs": [
    {
     "name": "stdout",
     "output_type": "stream",
     "text": [
      "\n",
      "      Source |       SS           df       MS      Number of obs   =        43\n",
      "-------------+----------------------------------   F(6, 36)        =    121.44\n",
      "       Model |  .318931007         6  .053155168   Prob > F        =    0.0000\n",
      "    Residual |  .015757531        36  .000437709   R-squared       =    0.9529\n",
      "-------------+----------------------------------   Adj R-squared   =    0.9451\n",
      "       Total |  .334688538        42  .007968775   Root MSE        =    .02092\n",
      "\n",
      "-------------------------------------------------------------------------------\n",
      "college_hs_~p |      Coef.   Std. Err.      t    P>|t|     [95% Conf. Interval]\n",
      "--------------+----------------------------------------------------------------\n",
      "college_hs_~y |  -.6248471   .1650731    -3.79   0.001    -.9596309   -.2900634\n",
      "log_real_mi~e |  -.0726028   .0527737    -1.38   0.177    -.1796327    .0344272\n",
      " unemployrate |   .0021388   .0041724     0.51   0.611    -.0063231    .0106008\n",
      "         time |   .0209058    .007752     2.70   0.011      .005184    .0366275\n",
      "  time_square |   .0270771   .0171506     1.58   0.123    -.0077058    .0618601\n",
      "    time_cube |  -.0053769   .0024517    -2.19   0.035     -.010349   -.0004047\n",
      "        _cons |   .0097468   .1878889     0.05   0.959    -.3713095    .3908031\n",
      "-------------------------------------------------------------------------------\n",
      "(est6 stored)\n"
     ]
    }
   ],
   "source": [
    "*6\n",
    "eststo: reg college_hs_gap college_hs_supply log_real_min_wage unemployrate time time_square time_cube if year <=2005"
   ]
  },
  {
   "cell_type": "code",
   "execution_count": 10,
   "metadata": {},
   "outputs": [
    {
     "name": "stdout",
     "output_type": "stream",
     "text": [
      "\n",
      "      Source |       SS           df       MS      Number of obs   =        43\n",
      "-------------+----------------------------------   F(4, 38)        =    163.34\n",
      "       Model |  .316292334         4  .079073084   Prob > F        =    0.0000\n",
      "    Residual |  .018396204        38  .000484111   R-squared       =    0.9450\n",
      "-------------+----------------------------------   Adj R-squared   =    0.9392\n",
      "       Total |  .334688538        42  .007968775   Root MSE        =      .022\n",
      "\n",
      "-------------------------------------------------------------------------------\n",
      "college_hs_~p |      Coef.   Std. Err.      t    P>|t|     [95% Conf. Interval]\n",
      "--------------+----------------------------------------------------------------\n",
      "college_hs_~y |  -.4418212   .0717095    -6.16   0.000    -.5869894    -.296653\n",
      "log_real_mi~e |  -.1352091   .0480424    -2.81   0.008     -.232466   -.0379523\n",
      " unemployrate |  -.0006542   .0037193    -0.18   0.861    -.0081834    .0068751\n",
      "         time |   .0181225    .001954     9.27   0.000     .0141667    .0220782\n",
      "        _cons |   .2694944    .109865     2.45   0.019     .0470843    .4919045\n",
      "-------------------------------------------------------------------------------\n",
      "(est7 stored)\n"
     ]
    }
   ],
   "source": [
    "*7\n",
    "\n",
    "eststo: reg college_hs_gap  college_hs_supply log_real_min_wage unemployrate time if year <=2005"
   ]
  },
  {
   "cell_type": "code",
   "execution_count": 11,
   "metadata": {},
   "outputs": [
    {
     "name": "stdout",
     "output_type": "stream",
     "text": [
      "\n",
      "      Source |       SS           df       MS      Number of obs   =        43\n",
      "-------------+----------------------------------   F(3, 39)        =    105.32\n",
      "       Model |  .297914902         3  .099304967   Prob > F        =    0.0000\n",
      "    Residual |  .036773636        39  .000942914   R-squared       =    0.8901\n",
      "-------------+----------------------------------   Adj R-squared   =    0.8817\n",
      "       Total |  .334688538        42  .007968775   Root MSE        =    .03071\n",
      "\n",
      "-------------------------------------------------------------------------------\n",
      "college_hs_~p |      Coef.   Std. Err.      t    P>|t|     [95% Conf. Interval]\n",
      "--------------+----------------------------------------------------------------\n",
      "log_real_mi~e |  -.1480837    .066985    -2.21   0.033    -.2835736   -.0125938\n",
      " unemployrate |  -.0180653   .0033747    -5.35   0.000    -.0248914   -.0112393\n",
      "         time |   .0063166   .0005346    11.82   0.000     .0052354    .0073979\n",
      "        _cons |   .6770965   .1224146     5.53   0.000     .4294897    .9247034\n",
      "-------------------------------------------------------------------------------\n",
      "(est8 stored)\n"
     ]
    }
   ],
   "source": [
    "*8\n",
    "eststo: reg college_hs_gap  log_real_min_wage unemployrate time if year <=2005"
   ]
  },
  {
   "cell_type": "code",
   "execution_count": 12,
   "metadata": {},
   "outputs": [
    {
     "name": "stdout",
     "output_type": "stream",
     "text": [
      "\n",
      "----------------------------------------------------------------\n",
      "        name | command      depvar       npar  title \n",
      "-------------+--------------------------------------------------\n",
      "        est1 | regress      college_hs~p    3  Linear regression\n",
      "        est2 | regress      college_hs~p    3  Linear regression\n",
      "        est3 | regress      college_hs~p    4  Linear regression\n",
      "        est4 | regress      college_hs~p    4  Linear regression\n",
      "        est5 | regress      college_hs~p    5  Linear regression\n",
      "        est6 | regress      college_hs~p    7  Linear regression\n",
      "        est7 | regress      college_hs~p    5  Linear regression\n",
      "        est8 | regress      college_hs~p    4  Linear regression\n",
      "----------------------------------------------------------------\n"
     ]
    }
   ],
   "source": [
    "eststo dir"
   ]
  },
  {
   "cell_type": "code",
   "execution_count": 29,
   "metadata": {},
   "outputs": [
    {
     "name": "stdout",
     "output_type": "stream",
     "text": [
      "\n",
      "\n",
      "--------------------------------------------------------------------------------\n",
      "> ----------\n",
      "           \\multicolumn{1}{c}{1963-1987} \\multicolumn{7}{c}{1963-2005}          \n",
      ">                               \\cmidrule(lr){2-2}\\cmidrule(lr){3-9}\n",
      "                 (1)       (2)       (3)       (4)       (5)       (6)       (7)\n",
      ">        (8)\n",
      "--------------------------------------------------------------------------------\n",
      "> ----------\n",
      "CLG/HS r~y    -0.603    -0.438    -0.642    -0.547    -0.560    -0.625    -0.442\n",
      ">           \n",
      "             (0.143)   (0.050)   (0.073)   (0.123)   (0.110)   (0.165)   (0.072)\n",
      ">           \n",
      "Log real~e                                                      -0.073    -0.135\n",
      ">     -0.148\n",
      "                                                               (0.053)   (0.048)\n",
      ">    (0.067)\n",
      "Mal..rate                                                        0.002    -0.001\n",
      ">     -0.018\n",
      "                                                               (0.004)   (0.004)\n",
      ">    (0.003)\n",
      "Time           0.024     0.019     0.026     0.025     0.017     0.021     0.018\n",
      ">      0.006\n",
      "             (0.006)   (0.001)   (0.003)   (0.006)   (0.006)   (0.008)   (0.002)\n",
      ">    (0.001)\n",
      "Time^2/100                                  -0.006     0.040     0.027          \n",
      ">           \n",
      "                                           (0.006)   (0.015)   (0.017)          \n",
      ">           \n",
      "Time^3/100                                            -0.007    -0.005          \n",
      ">           \n",
      "                                                     (0.002)   (0.002)          \n",
      ">           \n",
      "Time ~1992                        -0.007                                        \n",
      ">           \n",
      "                                 (0.002)                                        \n",
      ">           \n",
      "Constant      -0.108     0.029    -0.145    -0.073    -0.052     0.010     0.269\n",
      ">      0.677\n",
      "             (0.123)   (0.038)   (0.060)   (0.111)   (0.100)   (0.188)   (0.110)\n",
      ">    (0.122)\n",
      "--------------------------------------------------------------------------------\n",
      "> ----------\n",
      "Observat~s        25        43        43        43        43        43        43\n",
      ">         43\n",
      "R-squared      0.501     0.933     0.949     0.935     0.950     0.953     0.945\n",
      ">      0.890\n",
      "--------------------------------------------------------------------------------\n",
      "> ----------\n",
      "Standard errors in parentheses\n",
      "Standard errors in parentheses. Each column presents an OLS regression of the fi\n",
      "> xed-weighted college/high school wage differntial on the indicated variables. \n",
      "> The U.S. federal minimum wage is deflated by the personal consumption expendit\n",
      "> ure. Source of for labor supply and earnings measures is the March CPS, earnin\n",
      "> gs years 1963-2005\n"
     ]
    }
   ],
   "source": [
    "esttab est1 est2 est3 est4 est5 est6 est7 est8, nodepvars nostar nogaps  compress /// \n",
    "b(3) se(3) stats(N r2, fmt(%9.0fc %4.3f) labels(\"Observations\" \"R-squared\")) ///\n",
    "coeflabels( college_hs_supply \"CLG/HS relative supply\" log_real_min_wage \"Log real minimum wage\" ///\n",
    "unemployrate \"Male prime-age unemp.rate\" time \"Time\" time_square \"Time^2/100\" ///\n",
    "time_cube \"Time^3/100\" time_post92 \"Time x post-1992\" _cons \"Constant\") ///\n",
    "order(college_hs_supply log_real_min_wage unemployrate time time_square time_cube time_post92 _cons ) ///\n",
    "nonumber mgroups(\"1963-1987\" \"1963-2005\", pattern(1 1 0 0 0 0 0 0) prefix(\\multicolumn{@span}{c}{) suffix(}) /// \n",
    "span erepeat(\\cmidrule(lr){@span})) mtitles( (1) (2) (3) (4) (5) (6) (7) (8)) ///\n",
    "addnotes(Standard errors in parentheses. Each column presents an OLS regression of the fixed-weighted ///\n",
    "college/high school wage differntial on the indicated variables. The U.S. federal minimum wage is ///\n",
    "deflated by the personal consumption expenditure. Source of for labor supply and earnings measures ///\n",
    "is the March CPS, earnings years 1963-2005)\n"
   ]
  },
  {
   "cell_type": "code",
   "execution_count": 30,
   "metadata": {},
   "outputs": [
    {
     "name": "stdout",
     "output_type": "stream",
     "text": [
      "\n",
      "(output written to ..\\Results\\table1.tex)\n"
     ]
    }
   ],
   "source": [
    "esttab est1 est2 est3 est4 est5 est6 est7 est8  using \"..\\Results\\table1.tex\", replace nodepvars ///\n",
    "nostar nogaps booktabs compress /// \n",
    "b(3) se(3) stats(N r2, fmt(%9.0fc %4.3f) labels(\"Observations\" \"R-squared\")) ///\n",
    "coeflabels( college_hs_supply \"CLG/HS relative supply\" log_real_min_wage \"Log real minimum wage\" ///\n",
    "unemployrate \"Male prime-age unemp.rate\" time \"Time\" time_square \"Time^2/100\" ///\n",
    "time_cube \"Time^3/100\" time_post92 \"Time x post-1992\" _cons \"Constant\") ///\n",
    "order(college_hs_supply log_real_min_wage unemployrate time time_square time_cube time_post92 _cons ) ///\n",
    "nonumber mgroups(\"1963-1987\" \"1963-2005\", pattern(1 1 0 0 0 0 0 0) prefix(\\multicolumn{@span}{c}{) suffix(}) /// \n",
    "span erepeat(\\cmidrule(lr){@span})) mtitles( (1) (2) (3) (4) (5) (6) (7) (8)) alignment(c) ///\n",
    "nonotes addnotes(\"Standard errors in parentheses. Each column presents an OLS regression of the fixed-weighted college/high school\" /// \n",
    "\"wage differential on the indicated variables. The U.S. federal minimum wage is deflated by the personal consumpt-\" ///\n",
    "\"ion expenditure. Source of for labor supply and earnings measures is the March CPS, earnings years 1963-2005.\")\n"
   ]
  },
  {
   "cell_type": "code",
   "execution_count": 15,
   "metadata": {},
   "outputs": [
    {
     "name": "stdout",
     "output_type": "stream",
     "text": [
      "\n",
      "\n",
      "      Source |       SS           df       MS      Number of obs   =        57\n",
      "-------------+----------------------------------   F(2, 54)        =    383.96\n",
      "       Model |  .623860918         2  .311930459   Prob > F        =    0.0000\n",
      "    Residual |  .043869959        54  .000812407   R-squared       =    0.9343\n",
      "-------------+----------------------------------   Adj R-squared   =    0.9319\n",
      "       Total |  .667730876        56  .011923766   Root MSE        =     .0285\n",
      "\n",
      "-------------------------------------------------------------------------------\n",
      "college_hs_~p |      Coef.   Std. Err.      t    P>|t|     [95% Conf. Interval]\n",
      "--------------+----------------------------------------------------------------\n",
      "college_hs_~y |  -.2964766    .050576    -5.86   0.000    -.3978753   -.1950779\n",
      "         time |   .0137662   .0013084    10.52   0.000      .011143    .0163894\n",
      "        _cons |   .1507316   .0359157     4.20   0.000      .078725    .2227382\n",
      "-------------------------------------------------------------------------------\n",
      "(est9 stored)\n",
      "\n",
      "\n",
      "      Source |       SS           df       MS      Number of obs   =        57\n",
      "-------------+----------------------------------   F(3, 53)        =    573.07\n",
      "       Model |   .64776172         3  .215920573   Prob > F        =    0.0000\n",
      "    Residual |  .019969156        53  .000376777   R-squared       =    0.9701\n",
      "-------------+----------------------------------   Adj R-squared   =    0.9684\n",
      "       Total |  .667730876        56  .011923766   Root MSE        =    .01941\n",
      "\n",
      "-------------------------------------------------------------------------------\n",
      "college_hs_~p |      Coef.   Std. Err.      t    P>|t|     [95% Conf. Interval]\n",
      "--------------+----------------------------------------------------------------\n",
      "college_hs_~y |  -.6499991   .0561826   -11.57   0.000    -.7626872   -.5373109\n",
      "         time |   .0266223   .0018438    14.44   0.000     .0229242    .0303205\n",
      "  time_post92 |  -.0081324   .0010211    -7.96   0.000    -.0101803   -.0060844\n",
      "        _cons |  -.1523365   .0452348    -3.37   0.001     -.243066   -.0616069\n",
      "-------------------------------------------------------------------------------\n",
      "(est10 stored)\n",
      "\n",
      "\n",
      "      Source |       SS           df       MS      Number of obs   =        57\n",
      "-------------+----------------------------------   F(3, 53)        =    455.71\n",
      "       Model |  .642810587         3  .214270196   Prob > F        =    0.0000\n",
      "    Residual |   .02492029        53  .000470194   R-squared       =    0.9627\n",
      "-------------+----------------------------------   Adj R-squared   =    0.9606\n",
      "       Total |  .667730876        56  .011923766   Root MSE        =    .02168\n",
      "\n",
      "-------------------------------------------------------------------------------\n",
      "college_hs_~p |      Coef.   Std. Err.      t    P>|t|     [95% Conf. Interval]\n",
      "--------------+----------------------------------------------------------------\n",
      "college_hs_~y |  -.6332577   .0655343    -9.66   0.000    -.7647029   -.5018125\n",
      "         time |   .0297874   .0027129    10.98   0.000      .024346    .0352288\n",
      "  time_square |  -.0128339   .0020216    -6.35   0.000    -.0168887    -.008779\n",
      "        _cons |   -.156134   .0555257    -2.81   0.007    -.2675045   -.0447635\n",
      "-------------------------------------------------------------------------------\n",
      "(est11 stored)\n",
      "\n",
      "\n",
      "      Source |       SS           df       MS      Number of obs   =        57\n",
      "-------------+----------------------------------   F(4, 52)        =    411.00\n",
      "       Model |  .647258192         4  .161814548   Prob > F        =    0.0000\n",
      "    Residual |  .020472685        52  .000393705   R-squared       =    0.9693\n",
      "-------------+----------------------------------   Adj R-squared   =    0.9670\n",
      "       Total |  .667730876        56  .011923766   Root MSE        =    .01984\n",
      "\n",
      "-------------------------------------------------------------------------------\n",
      "college_hs_~p |      Coef.   Std. Err.      t    P>|t|     [95% Conf. Interval]\n",
      "--------------+----------------------------------------------------------------\n",
      "college_hs_~y |  -.4182398    .087685    -4.77   0.000    -.5941926   -.2422869\n",
      "         time |   .0136667   .0054007     2.53   0.014     .0028295    .0245039\n",
      "  time_square |   .0247124   .0113231     2.18   0.034      .001991    .0474338\n",
      "    time_cube |  -.0036985   .0011004    -3.36   0.001    -.0059066   -.0014904\n",
      "        _cons |   .0616443     .08234     0.75   0.457    -.1035829    .2268716\n",
      "-------------------------------------------------------------------------------\n",
      "(est12 stored)\n",
      "\n",
      "\n",
      "      Source |       SS           df       MS      Number of obs   =        57\n",
      "-------------+----------------------------------   F(6, 50)        =    282.34\n",
      "       Model |  .648587963         6  .108097994   Prob > F        =    0.0000\n",
      "    Residual |  .019142914        50  .000382858   R-squared       =    0.9713\n",
      "-------------+----------------------------------   Adj R-squared   =    0.9679\n",
      "       Total |  .667730876        56  .011923766   Root MSE        =    .01957\n",
      "\n",
      "-------------------------------------------------------------------------------\n",
      "college_hs_~p |      Coef.   Std. Err.      t    P>|t|     [95% Conf. Interval]\n",
      "--------------+----------------------------------------------------------------\n",
      "college_hs_~y |  -.4834742   .1136454    -4.25   0.000    -.7117377   -.2552107\n",
      "log_real_mi~e |  -.0752602   .0403938    -1.86   0.068    -.1563936    .0058731\n",
      " unemployrate |   .0018242    .002334     0.78   0.438    -.0028638    .0065122\n",
      "         time |   .0169644   .0065134     2.60   0.012     .0038819    .0300469\n",
      "  time_square |   .0163995   .0133317     1.23   0.224    -.0103779    .0431769\n",
      "    time_cube |  -.0027129   .0013197    -2.06   0.045    -.0053635   -.0000622\n",
      "        _cons |   .1312442   .1090903     1.20   0.235    -.0878701    .3503585\n",
      "-------------------------------------------------------------------------------\n",
      "(est13 stored)\n",
      "\n",
      "\n",
      "      Source |       SS           df       MS      Number of obs   =        57\n",
      "-------------+----------------------------------   F(4, 52)        =    266.08\n",
      "       Model |  .636627335         4  .159156834   Prob > F        =    0.0000\n",
      "    Residual |  .031103542        52  .000598145   R-squared       =    0.9534\n",
      "-------------+----------------------------------   Adj R-squared   =    0.9498\n",
      "       Total |  .667730876        56  .011923766   Root MSE        =    .02446\n",
      "\n",
      "-------------------------------------------------------------------------------\n",
      "college_hs_~p |      Coef.   Std. Err.      t    P>|t|     [95% Conf. Interval]\n",
      "--------------+----------------------------------------------------------------\n",
      "college_hs_~y |  -.4233861    .057601    -7.35   0.000     -.538971   -.3078012\n",
      "log_real_mi~e |   -.191875   .0415482    -4.62   0.000    -.2752476   -.1085024\n",
      " unemployrate |   .0040808   .0024638     1.66   0.104    -.0008632    .0090248\n",
      "         time |   .0164629   .0013917    11.83   0.000     .0136702    .0192556\n",
      "        _cons |   .3794627    .064682     5.87   0.000     .2496688    .5092566\n",
      "-------------------------------------------------------------------------------\n",
      "(est14 stored)\n",
      "\n",
      "\n",
      "      Source |       SS           df       MS      Number of obs   =        57\n",
      "-------------+----------------------------------   F(3, 53)        =    168.34\n",
      "       Model |  .604311213         3  .201437071   Prob > F        =    0.0000\n",
      "    Residual |  .063419663        53  .001196597   R-squared       =    0.9050\n",
      "-------------+----------------------------------   Adj R-squared   =    0.8996\n",
      "       Total |  .667730876        56  .011923766   Root MSE        =    .03459\n",
      "\n",
      "-------------------------------------------------------------------------------\n",
      "college_hs_~p |      Coef.   Std. Err.      t    P>|t|     [95% Conf. Interval]\n",
      "--------------+----------------------------------------------------------------\n",
      "log_real_mi~e |  -.0501001   .0520493    -0.96   0.340    -.1544978    .0542976\n",
      " unemployrate |  -.0066689   .0028045    -2.38   0.021     -.012294   -.0010438\n",
      "         time |   .0063678   .0003182    20.01   0.000     .0057296    .0070061\n",
      "        _cons |   .4657513   .0899665     5.18   0.000     .2853013    .6462012\n",
      "-------------------------------------------------------------------------------\n"
     ]
    },
    {
     "name": "stdout",
     "output_type": "stream",
     "text": [
      "(est15 stored)\n"
     ]
    }
   ],
   "source": [
    "\n",
    "\n",
    "*9\n",
    "eststo: reg college_hs_gap college_hs_supply time \n",
    "\n",
    "*10\n",
    "eststo: reg college_hs_gap college_hs_supply time time_post92  \n",
    "\n",
    "*11\n",
    "eststo: reg college_hs_gap college_hs_supply time time_square  \n",
    "\n",
    "*12\n",
    "eststo: reg college_hs_gap college_hs_supply time time_square time_cube  \n",
    "\n",
    "*13\n",
    "eststo: reg college_hs_gap college_hs_supply log_real_min_wage unemployrate time time_square time_cube \n",
    "\n",
    "*14\n",
    "eststo: reg college_hs_gap  college_hs_supply log_real_min_wage unemployrate time \n",
    "\n",
    "\n",
    "*15\n",
    "eststo: reg college_hs_gap  log_real_min_wage unemployrate time \n"
   ]
  },
  {
   "cell_type": "code",
   "execution_count": 16,
   "metadata": {},
   "outputs": [
    {
     "name": "stdout",
     "output_type": "stream",
     "text": [
      "\n",
      "----------------------------------------------------------------\n",
      "        name | command      depvar       npar  title \n",
      "-------------+--------------------------------------------------\n",
      "        est1 | regress      college_hs~p    3  Linear regression\n",
      "        est2 | regress      college_hs~p    3  Linear regression\n",
      "        est3 | regress      college_hs~p    4  Linear regression\n",
      "        est4 | regress      college_hs~p    4  Linear regression\n",
      "        est5 | regress      college_hs~p    5  Linear regression\n",
      "        est6 | regress      college_hs~p    7  Linear regression\n",
      "        est7 | regress      college_hs~p    5  Linear regression\n",
      "        est8 | regress      college_hs~p    4  Linear regression\n",
      "        est9 | regress      college_hs~p    3  Linear regression\n",
      "       est10 | regress      college_hs~p    4  Linear regression\n",
      "       est11 | regress      college_hs~p    4  Linear regression\n",
      "       est12 | regress      college_hs~p    5  Linear regression\n",
      "       est13 | regress      college_hs~p    7  Linear regression\n",
      "       est14 | regress      college_hs~p    5  Linear regression\n",
      "       est15 | regress      college_hs~p    4  Linear regression\n",
      "----------------------------------------------------------------\n"
     ]
    }
   ],
   "source": [
    "eststo dir"
   ]
  },
  {
   "cell_type": "code",
   "execution_count": 31,
   "metadata": {},
   "outputs": [
    {
     "name": "stdout",
     "output_type": "stream",
     "text": [
      "\n",
      "\n",
      "--------------------------------------------------------------------------------\n",
      "           \\multicolumn{7}{c}{1963-2019}                                        \n",
      "> \\cmidrule(lr){2-8}\n",
      "                 (1)       (2)       (3)       (4)       (5)       (6)       (7)\n",
      "--------------------------------------------------------------------------------\n",
      "CLG/HS r~y    -0.296    -0.650    -0.633    -0.418    -0.483    -0.423          \n",
      "             (0.051)   (0.056)   (0.066)   (0.088)   (0.114)   (0.058)          \n",
      "\n",
      "Log real~e                                            -0.075    -0.192    -0.050\n",
      "                                                     (0.040)   (0.042)   (0.052)\n",
      "\n",
      "Mal..rate                                              0.002     0.004    -0.007\n",
      "                                                     (0.002)   (0.002)   (0.003)\n",
      "\n",
      "Time           0.014     0.027     0.030     0.014     0.017     0.016     0.006\n",
      "             (0.001)   (0.002)   (0.003)   (0.005)   (0.007)   (0.001)   (0.000)\n",
      "\n",
      "Time^2/100                        -0.013     0.025     0.016                    \n",
      "                                 (0.002)   (0.011)   (0.013)                    \n",
      "\n",
      "Time^3/100                                  -0.004    -0.003                    \n",
      "                                           (0.001)   (0.001)                    \n",
      "\n",
      "Time ~1992              -0.008                                                  \n",
      "                       (0.001)                                                  \n",
      "\n",
      "Constant       0.151    -0.152    -0.156     0.062     0.131     0.379     0.466\n",
      "             (0.036)   (0.045)   (0.056)   (0.082)   (0.109)   (0.065)   (0.090)\n",
      "--------------------------------------------------------------------------------\n",
      "Observat~s        57        57        57        57        57        57        57\n",
      "R-squared      0.934     0.970     0.963     0.969     0.971     0.953     0.905\n",
      "--------------------------------------------------------------------------------\n",
      "Standard errors in parentheses\n",
      "Standard errors in parentheses. Each column presents an OLS regression of the fi\n",
      "> xed-weighted college/high school wage differntial on the indicated variables. \n",
      "> The U.S. federal minimum wage is deflated by the personal consumption expendit\n",
      "> ure. Source of for labor supply and earnings measures is the March CPS, earnin\n",
      "> gs years 1963-2019\n"
     ]
    }
   ],
   "source": [
    "esttab est9 est10 est11 est12 est13 est14 est15, replace  nodepvars nostar  compress /// \n",
    "b(3) se(3) stats(N r2, fmt(%3.0f %4.3f) labels(\"Observations\" \"R-squared\")) ///\n",
    "coeflabels( college_hs_supply \"CLG/HS relative supply\" log_real_min_wage \"Log real minimum wage\" ///\n",
    "unemployrate \"Male prime-age unemp.rate\" time \"Time\" time_square \"Time^2/100\" ///\n",
    "time_cube \"Time^3/100\" time_post92 \"Time x post-1992\" _cons \"Constant\") ///\n",
    "order(college_hs_supply log_real_min_wage unemployrate time time_square time_cube time_post92 _cons) /// \n",
    "alignment(r) nonumber  mgroups(\"1963-2019\", pattern(1 0 0 0 0 0 0) prefix(\\multicolumn{@span}{c}{) suffix(}) /// \n",
    "span erepeat(\\cmidrule(lr){@span})) mtitles( (1) (2) (3) (4) (5) (6) (7) ) ///\n",
    "addnotes(Standard errors in parentheses. Each column presents an OLS regression of the fixed-weighted ///\n",
    "college/high school wage differntial on the indicated variables. The U.S. federal minimum wage is ///\n",
    "deflated by the personal consumption expenditure. Source of for labor supply and earnings measures ///\n",
    "is the March CPS, earnings years 1963-2019)"
   ]
  },
  {
   "cell_type": "code",
   "execution_count": 32,
   "metadata": {},
   "outputs": [
    {
     "name": "stdout",
     "output_type": "stream",
     "text": [
      "\n",
      "(output written to ..\\Results\\table2.tex)\n"
     ]
    }
   ],
   "source": [
    "esttab est9 est10 est11 est12 est13 est14 est15 using \"..\\Results\\table2.tex\", replace  nodepvars ///\n",
    "nostar nogaps booktabs compress /// \n",
    "b(3) se(3) stats(N r2, fmt(%3.0f %4.3f) labels(\"Observations\" \"R-squared\")) ///\n",
    "coeflabels( college_hs_supply \"CLG/HS relative supply\" log_real_min_wage \"Log real minimum wage\" ///\n",
    "unemployrate \"Male prime-age unemp.rate\" time \"Time\" time_square \"Time^2/100\" ///\n",
    "time_cube \"Time^3/100\" time_post92 \"Time x post-1992\" _cons \"Constant\") ///\n",
    "order(college_hs_supply log_real_min_wage unemployrate time time_square time_cube time_post92 _cons) /// \n",
    "alignment(c) nonumber mgroups(\"1963-2019\", pattern(1 0 0 0 0 0 0) prefix(\\multicolumn{@span}{c}{) suffix(}) /// \n",
    "span erepeat(\\cmidrule(lr){@span})) mtitles( (1) (2) (3) (4) (5) (6) (7)) ///\n",
    "nonotes addnotes(\"Standard errors in parentheses. See notes on table 1 for deatails on data processing.\" /// \n",
    "\"Source for labor supply and earnings measures is the March CPS, earnings years 1963-2019.\")"
   ]
  },
  {
   "cell_type": "code",
   "execution_count": null,
   "metadata": {},
   "outputs": [],
   "source": []
  }
 ],
 "metadata": {
  "kernelspec": {
   "display_name": "Stata",
   "language": "stata",
   "name": "stata"
  },
  "language_info": {
   "codemirror_mode": "stata",
   "file_extension": ".do",
   "mimetype": "text/x-stata",
   "name": "stata",
   "version": "15.1"
  }
 },
 "nbformat": 4,
 "nbformat_minor": 4
}
